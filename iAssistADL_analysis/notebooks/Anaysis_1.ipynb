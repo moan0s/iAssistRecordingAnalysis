{
 "cells": [
  {
   "cell_type": "markdown",
   "id": "5afe9126-6e90-41f9-9309-f0912ac02756",
   "metadata": {},
   "source": [
    "# Loading"
   ]
  },
  {
   "cell_type": "code",
   "execution_count": 1,
   "id": "0cbc9f98-e074-4efd-b9f5-9230bca16984",
   "metadata": {},
   "outputs": [
    {
     "ename": "ModuleNotFoundError",
     "evalue": "No module named 'iAssistADL_analysis'",
     "output_type": "error",
     "traceback": [
      "\u001b[0;31m---------------------------------------------------------------------------\u001b[0m",
      "\u001b[0;31mModuleNotFoundError\u001b[0m                       Traceback (most recent call last)",
      "Cell \u001b[0;32mIn[1], line 1\u001b[0m\n\u001b[0;32m----> 1\u001b[0m \u001b[38;5;28;01mfrom\u001b[39;00m \u001b[38;5;21;01miAssistADL_analysis\u001b[39;00m \u001b[38;5;28;01mimport\u001b[39;00m loaders\n\u001b[1;32m      4\u001b[0m subject \u001b[38;5;241m=\u001b[39m \u001b[38;5;124m\"\u001b[39m\u001b[38;5;124mBRAD-1\u001b[39m\u001b[38;5;124m\"\u001b[39m\n\u001b[1;32m      5\u001b[0m session \u001b[38;5;241m=\u001b[39m \u001b[38;5;124m\"\u001b[39m\u001b[38;5;124m2\u001b[39m\u001b[38;5;124m\"\u001b[39m\n",
      "\u001b[0;31mModuleNotFoundError\u001b[0m: No module named 'iAssistADL_analysis'"
     ]
    }
   ],
   "source": [
    "from iAssistADL_analysis import loaders\n",
    "\n",
    "\n",
    "subject = \"BRAD-1\"\n",
    "session = \"2\"\n",
    "recording = \"2\"\n",
    "base_data_path = \"/home/moanos/Nextcloud/Masterarbeit/recordings/\"\n",
    "recording_base_path = f\"{base_data_path}/{subject}/{session}/{recording}\"\n",
    "loaders.get_xsense_data(recording_base_path)"
   ]
  }
 ],
 "metadata": {
  "kernelspec": {
   "display_name": "Python 3 (ipykernel)",
   "language": "python",
   "name": "python3"
  },
  "language_info": {
   "codemirror_mode": {
    "name": "ipython",
    "version": 3
   },
   "file_extension": ".py",
   "mimetype": "text/x-python",
   "name": "python",
   "nbconvert_exporter": "python",
   "pygments_lexer": "ipython3",
   "version": "3.11.6"
  }
 },
 "nbformat": 4,
 "nbformat_minor": 5
}
